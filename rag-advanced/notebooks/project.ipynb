{
 "cells": [
  {
   "cell_type": "code",
   "execution_count": 2,
   "metadata": {},
   "outputs": [],
   "source": [
    "import weave\n",
    "\n",
    "eval_dataset = weave.ref(\"weave:///wandbot/wandbot-eval2/object/Dataset:N3OLzF5RslZHmEDCO8sCTXXDWeyKYFjhbCRbourbDlE\").get()"
   ]
  },
  {
   "cell_type": "code",
   "execution_count": 4,
   "metadata": {},
   "outputs": [
    {
     "name": "stdout",
     "output_type": "stream",
     "text": [
      "[WeaveDict({'question': \"Hey I have a question about using wandb with fastapi in a prod environment. is it recommended to initialize wandb within a specific route function, ie\\n\\n`@app.route('/')\\ndef my_function():\\n    wandb.init(...)\\n`\\nor should i initialize beforehand:\\n\\n`wandb.init(...)\\n@app.route('/')\\ndef my_function():\\n    ...`\\n\\nI'm getting a long list of log items in the console and many of them are empty.\", 'ground_truth': 'When integrating `wandb` (Weights & Biases) with a FastAPI application, it\\'s important to consider the nature of your application and how you\\'re using `wandb`. FastAPI is an asynchronous web framework, and initializing `wandb` within a route function could lead to multiple initializations if the route is hit multiple times, which is not ideal.\\n\\nHere are some guidelines to help you decide where to place the `wandb.init()` call:\\n\\n1. **One-time Initialization**: If you need to track metrics across the entire application lifecycle and not just within a specific route, you should initialize `wandb` outside of the route function, preferably at the start of your application. This way, `wandb` is initialized once when your FastAPI app starts.\\n\\n2. **Per-Request Initialization**: If you need to track metrics for a specific route and each request is considered a separate experiment or run, you might initialize `wandb` within the route function. However, this is less common and could lead to a cluttered dashboard with many runs, which might be what you\\'re experiencing with the empty log items.\\n\\n3. **Background Tasks**: If you\\'re running long-running tasks or jobs that are kicked off from a FastAPI route, you might want to use FastAPI\\'s background tasks to initialize and log to `wandb`. This way, the `wandb` run is associated with the background task and not the web request itself.\\n\\nHere\\'s an example of how you might structure it for a one-time initialization:\\n\\n```python\\nimport wandb\\nfrom fastapi import FastAPI\\n\\n# Initialize wandb once when the application starts\\nwandb.init(project=\"my_project\", entity=\"my_entity\")\\n\\napp = FastAPI()\\n\\n@app.get(\"/\")\\nasync def my_function():\\n    # Log something to wandb\\n    wandb.log({\"metric\": value})\\n    return {\"Hello\": \"World\"}\\n```\\n\\nFor per-request initialization (less common):\\n\\n```python\\nfrom fastapi import FastAPI\\n\\napp = FastAPI()\\n\\n@app.get(\"/\")\\nasync def my_function():\\n    # Initialize wandb for this specific request/run\\n    run = wandb.init(project=\"my_project\", entity=\"my_entity\", reinit=True)\\n    # Log something to wandb\\n    wandb.log({\"metric\": value})\\n    # Finish the run when done logging\\n    run.finish()\\n    return {\"Hello\": \"World\"}\\n```\\n\\nRemember to finish the run with `run.finish()` if you\\'re initializing `wandb` within a route function to ensure that resources are cleaned up properly.\\n\\nIf you\\'re seeing a lot of empty log items, it could be due to initializing `wandb` multiple times without logging any metrics or due to incorrect usage within an asynchronous environment. Make sure that you\\'re logging the relevant metrics after each initialization and that you\\'re managing the lifecycle of your `wandb` runs correctly.', 'notes': \"The answer clearly explains the recommended practices for integrating wandb with a FastAPI application, offering both one-time initialization at the application start and per-request initialization within a route function, if necessary. The answer also mentions the possible reasons for seeing many empty log items in the console, such as multiple initializations or incorrect usage within an asynchronous environment, which directly corresponds to the user's observations.\\n\"}), WeaveDict({'question': \"Hey with wandb is it possible to link from the sweep api?\\nbest_run = sweep.best_run()\\nI have the best run but it isn't clear to me how to link through the api. the UI works fine but trying to get the api working also. I have been reading the docs but missing something.\", 'ground_truth': 'Yes, with `wandb`, you can link to the best run from a sweep using the API. The `best_run()` method of a sweep object will return the best run based on the metric defined in the sweep configuration. Once you have the best run object, you can use its attributes to access various details about the run, including its URL.\\n\\nHere\\'s an example of how you can retrieve the best run from a sweep and then get the URL for that run:\\n\\n```python\\nimport wandb\\n\\n# Initialize the API\\napi = wandb.Api()\\n\\n# Replace with your entity, project, and sweep ID\\nsweep = api.sweep(\"entity/project/sweep_id\")\\n\\n# Get the best run\\nbest_run = sweep.best_run()\\n\\n# Now you can access the best run\\'s attributes, including the URL\\nprint(\"Best run ID:\", best_run.id)\\nprint(\"Best run URL:\", best_run.url)\\n```\\n\\nThe `best_run.url` attribute will give you the direct link to the best run in the W&B UI. You can use this URL to navigate to the run\\'s page in your web browser.\\n\\nIf you\\'re having trouble, make sure that you have the correct permissions and that your API keys are set up correctly. Also, ensure that the `entity`, `project`, and `sweep_id` in the `api.sweep()` call are correctly specified. If you\\'re still facing issues, please provide more details about the error or the problem you\\'re encountering, and I\\'ll be happy to help further.', 'notes': 'This answer correctly explains how to use the W&B API to get the best run from a sweep and access its URL.'})]\n"
     ]
    }
   ],
   "source": [
    "print(eval_dataset.rows[:2])"
   ]
  },
  {
   "cell_type": "code",
   "execution_count": 5,
   "metadata": {},
   "outputs": [],
   "source": [
    "import asyncio\n",
    "\n",
    "import nest_asyncio\n",
    "\n",
    "nest_asyncio.apply()\n",
    "\n",
    "import weave"
   ]
  },
  {
   "cell_type": "code",
   "execution_count": 6,
   "metadata": {},
   "outputs": [
    {
     "name": "stdout",
     "output_type": "stream",
     "text": [
      "Logged in as Weights & Biases user: michaelyliu6.\n",
      "View Weave data at https://wandb.ai/michaelyliu6-none/rag-course/weave\n"
     ]
    }
   ],
   "source": [
    "WANDB_PROJECT = \"rag-course\"\n",
    "\n",
    "weave_client = weave.init(WANDB_PROJECT)"
   ]
  },
  {
   "cell_type": "code",
   "execution_count": 7,
   "metadata": {},
   "outputs": [],
   "source": [
    "from scripts.response_metrics import ALL_METRICS as RESPONSE_METRICS\n",
    "\n",
    "response_evaluations = weave.Evaluation(\n",
    "    name=\"Response_Evaluation\",\n",
    "    dataset=eval_dataset,\n",
    "    scorers=RESPONSE_METRICS,\n",
    "    preprocess_model_input=lambda x: {\"query\": x[\"question\"]},\n",
    ")"
   ]
  },
  {
   "cell_type": "code",
   "execution_count": 8,
   "metadata": {},
   "outputs": [
    {
     "ename": "NameError",
     "evalue": "name 'HybridRetrieverReranker' is not defined",
     "output_type": "error",
     "traceback": [
      "\u001b[0;31m---------------------------------------------------------------------------\u001b[0m",
      "\u001b[0;31mNameError\u001b[0m                                 Traceback (most recent call last)",
      "Cell \u001b[0;32mIn[8], line 1\u001b[0m\n\u001b[0;32m----> 1\u001b[0m hybrid_retriever \u001b[38;5;241m=\u001b[39m \u001b[43mHybridRetrieverReranker\u001b[49m()\n\u001b[1;32m      2\u001b[0m hybrid_retriever\u001b[38;5;241m.\u001b[39mindex_data(chunked_data)\n",
      "\u001b[0;31mNameError\u001b[0m: name 'HybridRetrieverReranker' is not defined"
     ]
    }
   ],
   "source": [
    "hybrid_retriever = HybridRetrieverReranker()\n",
    "hybrid_retriever.index_data(chunked_data)"
   ]
  }
 ],
 "metadata": {
  "kernelspec": {
   "display_name": "base",
   "language": "python",
   "name": "python3"
  },
  "language_info": {
   "codemirror_mode": {
    "name": "ipython",
    "version": 3
   },
   "file_extension": ".py",
   "mimetype": "text/x-python",
   "name": "python",
   "nbconvert_exporter": "python",
   "pygments_lexer": "ipython3",
   "version": "3.11.11"
  }
 },
 "nbformat": 4,
 "nbformat_minor": 2
}
